{
 "cells": [
  {
   "cell_type": "code",
   "execution_count": 72,
   "id": "2fced843",
   "metadata": {},
   "outputs": [],
   "source": [
    "# KBO 일정 크롤링\n",
    "## 2024 UPDATE - 기존에 사용하던 BS 와 다르게 경기 일정은 JS 를 통해 동적으로 생성되기 때문에 Selenium 사용 필요해짐\n",
    "\n",
    "### 1. 패키지 세팅 \n",
    "from selenium import webdriver\n",
    "from selenium.webdriver.common.by import By\n",
    "from selenium.webdriver.chrome.options import Options\n",
    "from selenium.webdriver.chrome.service import Service\n",
    "from selenium.webdriver.support.ui import WebDriverWait\n",
    "from selenium.webdriver.support import expected_conditions as EC\n",
    "from webdriver_manager.chrome import ChromeDriverManager\n",
    "from bs4 import BeautifulSoup\n",
    "\n"
   ]
  },
  {
   "cell_type": "code",
   "execution_count": 6,
   "id": "146a02ba",
   "metadata": {},
   "outputs": [
    {
     "name": "stdout",
     "output_type": "stream",
     "text": [
      "None\n"
     ]
    }
   ],
   "source": [
    "## 임의의 날짜로 테스트\n",
    "\n",
    "url = \"https://m.sports.naver.com/kbaseball/schedule/index?date=2024-04-30\"\n",
    "driver.get(url)\n",
    "\n",
    "soup = BeautifulSoup(driver.page_source, 'html.parser')\n",
    "contents = soup.find_all(\"li\", {\"class\": \"MatchBox_match_item__3_D0Q\"})\n",
    "\n",
    "contentArray = [];\n",
    "\n",
    "for i in contents:\n",
    "    item = i.find(\"div\", {\"class\": \"MatchBox_match_area__39dEr\"})\n",
    "    match = item.find_all(\"div\", {\"class\": \"MatchBoxTeamArea_name_info__2IaZV\"})\n",
    "    info = []\n",
    "    \n",
    "    for j in match:\n",
    "        info.append(j.find(\"strong\", {\"class\": \"MatchBoxTeamArea_team__3aB4O\"}).string)\n",
    "    \n",
    "\n",
    "    if len(info) < 1:\n",
    "        break;\n",
    "\n",
    "    contentArray.append({\"home\": info[1], \"away\": info[0]})\n",
    "\n",
    "print(contentArray) #배열길이가 0이면 경기 없음"
   ]
  },
  {
   "cell_type": "code",
   "execution_count": 73,
   "id": "640f7504",
   "metadata": {},
   "outputs": [],
   "source": [
    "## 개막 날짜 넣어서 모든 경기 일정 불러오기\n",
    "from datetime import date, timedelta\n",
    "\n",
    "startDateString = '2024-03-24'\n",
    "startDate = date.fromisoformat(startDateString)\n",
    "endDateString = '2024-04-01' # 임의의 종료 날짜\n",
    "endDate = date.fromisoformat(endDateString)\n",
    "\n",
    "dates = [];\n",
    "dateDiff = datetime(endDate.year, endDate.month, endDate.day) - datetime(startDate.year, startDate.month, startDate.day)\n",
    "\n",
    "for i in range(0, dateDiff.days):\n",
    "    dates.append((date.fromisoformat(startDateString) + timedelta(days = i)).isoformat())\n"
   ]
  },
  {
   "cell_type": "code",
   "execution_count": null,
   "id": "9a64c746",
   "metadata": {},
   "outputs": [
    {
     "name": "stdout",
     "output_type": "stream",
     "text": [
      "EXCEPTION!\n"
     ]
    }
   ],
   "source": [
    "driver = webdriver.Chrome()\n",
    "\n",
    "baseUrl = \"https://m.sports.naver.com/kbaseball/schedule/index?date=\"\n",
    "\n",
    "data = {}\n",
    "\n",
    "for d in dates:\n",
    "    url = ''.join([baseUrl, d])\n",
    "    driver.get(url)\n",
    "    try:\n",
    "        e = WebDriverWait(driver, 20).until(EC.presence_of_element_located((By.CSS_SELECTOR, \".MatchBoxTeamArea_team__3aB4O\")))\n",
    "        print(e.getText())\n",
    "        soup = BeautifulSoup(driver.page_source, 'html.parser')\n",
    "#         soup = BeautifulSoup(e,getText(), 'html.parser')\n",
    "        contents = soup.find_all(\"li\", {\"class\": \"MatchBox_match_item__3_D0Q\"})\n",
    "\n",
    "        contentArray = [];\n",
    "\n",
    "        for i in contents:\n",
    "            item = i.find(\"div\", {\"class\": \"MatchBox_match_area__39dEr\"})\n",
    "            match = item.find_all(\"div\", {\"class\": \"MatchBoxTeamArea_name_info__2IaZV\"})\n",
    "            info = []\n",
    "\n",
    "            for j in match:\n",
    "                info.append(j.find(\"strong\", {\"class\": \"MatchBoxTeamArea_team__3aB4O\"}).string)\n",
    "\n",
    "            print(info)\n",
    "\n",
    "    #         랜덤하게 경기가 안담기는 경우가 있음 -> 웹페이지 로딩되는 시간 때문?\n",
    "    #         if len(info) < 1:\n",
    "    #             continue;\n",
    "\n",
    "            contentArray.append({\"home\": info[1], \"away\": info[0]})\n",
    "#             continue\n",
    "\n",
    "        data[d] = contentArray\n",
    "        \n",
    "    except:\n",
    "        print(\"EXCEPTION!\")\n",
    "\n",
    "print(data) #배열길이가 0이면 경기 없음\n",
    "driver.quit()\n"
   ]
  },
  {
   "cell_type": "code",
   "execution_count": null,
   "id": "46723c89",
   "metadata": {},
   "outputs": [],
   "source": []
  }
 ],
 "metadata": {
  "kernelspec": {
   "display_name": "Python 3 (ipykernel)",
   "language": "python",
   "name": "python3"
  },
  "language_info": {
   "codemirror_mode": {
    "name": "ipython",
    "version": 3
   },
   "file_extension": ".py",
   "mimetype": "text/x-python",
   "name": "python",
   "nbconvert_exporter": "python",
   "pygments_lexer": "ipython3",
   "version": "3.9.12"
  }
 },
 "nbformat": 4,
 "nbformat_minor": 5
}
