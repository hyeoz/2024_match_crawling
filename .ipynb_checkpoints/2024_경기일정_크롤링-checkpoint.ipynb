{
 "cells": [
  {
   "cell_type": "code",
   "execution_count": 5,
   "metadata": {},
   "outputs": [],
   "source": [
    "# KBO 일정 크롤링\n",
    "## 2024 UPDATE - 기존에 사용하던 BS 와 다르게 경기 일정은 JS 를 통해 동적으로 생성되기 때문에 Selenium 사용 필요해짐\n",
    "\n",
    "### 1. 패키지 세팅 \n",
    "from selenium import webdriver\n",
    "# from selenium.webdriver.common.by import By\n",
    "from selenium.webdriver.chrome.options import Options\n",
    "from selenium.webdriver.chrome.service import Service\n",
    "from selenium.webdriver.support.ui import WebDriverWait\n",
    "from selenium.webdriver.support import expected_conditions as EC\n",
    "from webdriver_manager.chrome import ChromeDriverManager\n",
    "from bs4 import BeautifulSoup\n",
    "\n"
   ]
  },
  {
   "cell_type": "code",
   "execution_count": 5,
   "metadata": {},
   "outputs": [
    {
     "name": "stdout",
     "output_type": "stream",
     "text": [
      "[{'home': 'KIA', 'away': 'KT'}, {'home': 'NC', 'away': 'LG'}, {'home': '한화', 'away': 'SSG'}, {'home': '두산', 'away': '삼성'}, {'home': '롯데', 'away': '키움'}]\n"
     ]
    }
   ],
   "source": [
    "## TEST\n",
    "# options = Options()\n",
    "# options.binary_location = \"/usr/local/bin/chromedriver\"\n",
    "# driver = webdriver.Chrome(options=options)\n",
    "driver = webdriver.Chrome()\n",
    "\n",
    "url = \"https://m.sports.naver.com/kbaseball/schedule/index?date=2024-04-30\"\n",
    "driver.get(url)\n",
    "\n",
    "soup = BeautifulSoup(driver.page_source, 'html.parser')\n",
    "contents = soup.find_all(\"li\", {\"class\": \"MatchBox_match_item__3_D0Q\"})\n",
    "\n",
    "contentArray = [];\n",
    "\n",
    "for i in contents:\n",
    "    item = i.find(\"div\", {\"class\": \"MatchBox_match_area__39dEr\"})\n",
    "    match = item.find_all(\"div\", {\"class\": \"MatchBoxTeamArea_name_info__2IaZV\"})\n",
    "    info = []\n",
    "    \n",
    "    for j in match:\n",
    "        info.append(j.find(\"strong\", {\"class\": \"MatchBoxTeamArea_team__3aB4O\"}).string)\n",
    "    \n",
    "\n",
    "    if len(info) < 1:\n",
    "        break;\n",
    "\n",
    "    contentArray.append({\"home\": info[1], \"away\": info[0]})\n",
    "\n",
    "print(contentArray) #배열길이가 0이면 경기 없음"
   ]
  },
  {
   "cell_type": "code",
   "execution_count": 27,
   "metadata": {},
   "outputs": [
    {
     "name": "stdout",
     "output_type": "stream",
     "text": [
      "['2024-03-24', '2024-03-25', '2024-03-26', '2024-03-27', '2024-03-28', '2024-03-29', '2024-03-30', '2024-03-31', '2024-04-01', '2024-04-02', '2024-04-03', '2024-04-04', '2024-04-05', '2024-04-06', '2024-04-07', '2024-04-08', '2024-04-09', '2024-04-10', '2024-04-11', '2024-04-12', '2024-04-13', '2024-04-14', '2024-04-15', '2024-04-16', '2024-04-17', '2024-04-18', '2024-04-19', '2024-04-20', '2024-04-21', '2024-04-22', '2024-04-23', '2024-04-24', '2024-04-25', '2024-04-26', '2024-04-27', '2024-04-28', '2024-04-29', '2024-04-30', '2024-05-01', '2024-05-02', '2024-05-03', '2024-05-04', '2024-05-05', '2024-05-06', '2024-05-07', '2024-05-08', '2024-05-09', '2024-05-10', '2024-05-11', '2024-05-12', '2024-05-13', '2024-05-14', '2024-05-15', '2024-05-16', '2024-05-17', '2024-05-18', '2024-05-19', '2024-05-20', '2024-05-21', '2024-05-22', '2024-05-23', '2024-05-24', '2024-05-25', '2024-05-26', '2024-05-27', '2024-05-28', '2024-05-29', '2024-05-30', '2024-05-31', '2024-06-01', '2024-06-02', '2024-06-03', '2024-06-04', '2024-06-05', '2024-06-06', '2024-06-07', '2024-06-08', '2024-06-09', '2024-06-10', '2024-06-11', '2024-06-12', '2024-06-13', '2024-06-14', '2024-06-15', '2024-06-16', '2024-06-17', '2024-06-18', '2024-06-19', '2024-06-20', '2024-06-21', '2024-06-22', '2024-06-23', '2024-06-24', '2024-06-25', '2024-06-26', '2024-06-27', '2024-06-28', '2024-06-29', '2024-06-30', '2024-07-01', '2024-07-02', '2024-07-03', '2024-07-04', '2024-07-05', '2024-07-06', '2024-07-07', '2024-07-08', '2024-07-09', '2024-07-10', '2024-07-11', '2024-07-12', '2024-07-13', '2024-07-14', '2024-07-15', '2024-07-16', '2024-07-17', '2024-07-18', '2024-07-19', '2024-07-20', '2024-07-21', '2024-07-22', '2024-07-23', '2024-07-24', '2024-07-25', '2024-07-26', '2024-07-27', '2024-07-28', '2024-07-29', '2024-07-30', '2024-07-31', '2024-08-01', '2024-08-02', '2024-08-03', '2024-08-04', '2024-08-05', '2024-08-06', '2024-08-07', '2024-08-08', '2024-08-09', '2024-08-10', '2024-08-11', '2024-08-12', '2024-08-13', '2024-08-14', '2024-08-15', '2024-08-16', '2024-08-17', '2024-08-18', '2024-08-19', '2024-08-20', '2024-08-21', '2024-08-22', '2024-08-23', '2024-08-24', '2024-08-25', '2024-08-26', '2024-08-27', '2024-08-28', '2024-08-29', '2024-08-30', '2024-08-31', '2024-09-01', '2024-09-02', '2024-09-03', '2024-09-04', '2024-09-05', '2024-09-06', '2024-09-07', '2024-09-08', '2024-09-09', '2024-09-10', '2024-09-11', '2024-09-12', '2024-09-13', '2024-09-14', '2024-09-15', '2024-09-16', '2024-09-17', '2024-09-18', '2024-09-19', '2024-09-20', '2024-09-21', '2024-09-22', '2024-09-23', '2024-09-24', '2024-09-25', '2024-09-26', '2024-09-27', '2024-09-28', '2024-09-29', '2024-09-30', '2024-10-01', '2024-10-02', '2024-10-03', '2024-10-04', '2024-10-05', '2024-10-06', '2024-10-07', '2024-10-08', '2024-10-09', '2024-10-10', '2024-10-11', '2024-10-12', '2024-10-13', '2024-10-14', '2024-10-15', '2024-10-16', '2024-10-17', '2024-10-18', '2024-10-19', '2024-10-20', '2024-10-21', '2024-10-22', '2024-10-23', '2024-10-24', '2024-10-25', '2024-10-26', '2024-10-27', '2024-10-28', '2024-10-29', '2024-10-30', '2024-10-31', '2024-11-01', '2024-11-02', '2024-11-03', '2024-11-04', '2024-11-05', '2024-11-06', '2024-11-07', '2024-11-08', '2024-11-09', '2024-11-10', '2024-11-11', '2024-11-12', '2024-11-13', '2024-11-14', '2024-11-15', '2024-11-16', '2024-11-17', '2024-11-18', '2024-11-19', '2024-11-20', '2024-11-21', '2024-11-22', '2024-11-23', '2024-11-24', '2024-11-25', '2024-11-26', '2024-11-27', '2024-11-28', '2024-11-29', '2024-11-30']\n"
     ]
    }
   ],
   "source": [
    "## 개막 날짜 넣어서 모든 경기 일정 불러오기\n",
    "from datetime import date, timedelta\n",
    "\n",
    "startDateString = '2024-03-24'\n",
    "startDate = date.fromisoformat(startDateString)\n",
    "endDateString = '2024-12-01' # 임의의 종료 날짜\n",
    "endDate = date.fromisoformat(endDateString)\n",
    "\n",
    "dates = [];\n",
    "dateDiff = date(endDate.year, endDate.month, endDate.day) - date(startDate.year, startDate.month, startDate.day)\n",
    "\n",
    "for i in range(0, dateDiff.days):\n",
    "    dates.append((date.fromisoformat(startDateString) + timedelta(days = i)).isoformat())\n",
    "\n",
    "print(dates)"
   ]
  },
  {
   "cell_type": "code",
   "execution_count": null,
   "metadata": {},
   "outputs": [],
   "source": [
    "driver = webdriver.Chrome()\n",
    "\n",
    "baseUrl = \"https://m.sports.naver.com/kbaseball/schedule/index?date=\"\n",
    "\n",
    "data = {}\n",
    "\n",
    "for d in dates:\n",
    "    matchesByDay = []\n",
    "    url = ''.join([baseUrl, d])\n",
    "    driver.get(url)\n",
    "    \n",
    "    try:\n",
    "        element = WebDriverWait(driver, 10).until(EC.presence_of_element_located(('css selector', '.ScheduleAllType_match_list__3n5L_')))\n",
    "        matches = element.find_elements('css selector', '.MatchBox_item_content__3SGZf')\n",
    "        \n",
    "        for el in matches:\n",
    "            names = el.find_elements('css selector', '.MatchBoxTeamArea_team__3aB4O')\n",
    "            matchesByDay.append({\n",
    "                'home': names[1].text,\n",
    "                'away': names[0].text\n",
    "            })\n",
    "    except:\n",
    "#         경기가 없는 날엔 timeout 으로 exception 에 들어옵니다\n",
    "#         print('경기가 없습니다')\n",
    "        continue\n",
    "        \n",
    "    data[d] = matchesByDay\n",
    "\n",
    "print(data)\n",
    "driver.quit()\n"
   ]
  },
  {
   "cell_type": "code",
   "execution_count": 7,
   "metadata": {},
   "outputs": [
    {
     "name": "stdout",
     "output_type": "stream",
     "text": [
      "Defaulting to user installation because normal site-packages is not writeable\n",
      "Collecting datetime\n",
      "  Downloading DateTime-5.5-py3-none-any.whl (52 kB)\n",
      "\u001b[K     |████████████████████████████████| 52 kB 4.6 MB/s eta 0:00:011\n",
      "\u001b[?25hRequirement already satisfied: pytz in /Library/Frameworks/Python.framework/Versions/3.8/lib/python3.8/site-packages (from datetime) (2020.1)\n",
      "Collecting zope.interface\n",
      "  Downloading zope.interface-6.3-cp38-cp38-macosx_10_9_x86_64.whl (202 kB)\n",
      "\u001b[K     |████████████████████████████████| 202 kB 4.8 MB/s eta 0:00:01\n",
      "\u001b[?25hRequirement already satisfied: setuptools in /Users/hyewonlee/Library/Python/3.8/lib/python/site-packages (from zope.interface->datetime) (57.0.0)\n",
      "Installing collected packages: zope.interface, datetime\n",
      "Successfully installed datetime-5.5 zope.interface-6.3\n",
      "\u001b[33mWARNING: You are using pip version 21.1.2; however, version 24.0 is available.\n",
      "You should consider upgrading via the '/Library/Frameworks/Python.framework/Versions/3.8/bin/python3.8 -m pip install --upgrade pip' command.\u001b[0m\n",
      "Note: you may need to restart the kernel to use updated packages.\n"
     ]
    }
   ],
   "source": []
  },
  {
   "cell_type": "code",
   "execution_count": null,
   "metadata": {},
   "outputs": [],
   "source": []
  }
 ],
 "metadata": {
  "kernelspec": {
   "display_name": "Python 3",
   "language": "python",
   "name": "python3"
  },
  "language_info": {
   "codemirror_mode": {
    "name": "ipython",
    "version": 3
   },
   "file_extension": ".py",
   "mimetype": "text/x-python",
   "name": "python",
   "nbconvert_exporter": "python",
   "pygments_lexer": "ipython3",
   "version": "3.8.5"
  },
  "toc": {
   "base_numbering": 1,
   "nav_menu": {},
   "number_sections": true,
   "sideBar": true,
   "skip_h1_title": false,
   "title_cell": "Table of Contents",
   "title_sidebar": "Contents",
   "toc_cell": false,
   "toc_position": {},
   "toc_section_display": true,
   "toc_window_display": false
  }
 },
 "nbformat": 4,
 "nbformat_minor": 5
}
