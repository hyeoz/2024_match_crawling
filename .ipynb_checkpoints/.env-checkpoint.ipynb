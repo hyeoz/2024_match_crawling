{
 "cells": [
  {
   "cell_type": "code",
   "execution_count": 2,
   "id": "ea1a5e3f",
   "metadata": {},
   "outputs": [
    {
     "ename": "NameError",
     "evalue": "name 'a6e8fab2ae4907bada9b7df3dedb57df9a87e6aa9cab9699e7e15929ddcbfcc309b6d50362ad8d5fcbd8dfc5c44ea0f3409fac626c0cf0c16dfb1fdf6109f582a3ce0f9cb793bb3296648441007ad0b8e0e50eb9ef9fa2ae23c77c6a5973a003e6686197' is not defined",
     "output_type": "error",
     "traceback": [
      "\u001b[0;31m---------------------------------------------------------------------------\u001b[0m",
      "\u001b[0;31mNameError\u001b[0m                                 Traceback (most recent call last)",
      "Input \u001b[0;32mIn [2]\u001b[0m, in \u001b[0;36m<cell line: 2>\u001b[0;34m()\u001b[0m\n\u001b[1;32m      1\u001b[0m \u001b[38;5;66;03m# heroku key\u001b[39;00m\n\u001b[0;32m----> 2\u001b[0m API_KEY\u001b[38;5;241m=\u001b[39m\u001b[43ma6e8fab2ae4907bada9b7df3dedb57df9a87e6aa9cab9699e7e15929ddcbfcc309b6d50362ad8d5fcbd8dfc5c44ea0f3409fac626c0cf0c16dfb1fdf6109f582a3ce0f9cb793bb3296648441007ad0b8e0e50eb9ef9fa2ae23c77c6a5973a003e6686197bf4409c5734d5ee12a9161aa57c60cc724cc9e50acf3589eceff6fc4\u001b[49m\n",
      "\u001b[0;31mNameError\u001b[0m: name 'a6e8fab2ae4907bada9b7df3dedb57df9a87e6aa9cab9699e7e15929ddcbfcc309b6d50362ad8d5fcbd8dfc5c44ea0f3409fac626c0cf0c16dfb1fdf6109f582a3ce0f9cb793bb3296648441007ad0b8e0e50eb9ef9fa2ae23c77c6a5973a003e6686197' is not defined"
     ]
    }
   ],
   "source": [
    "# heroku key\n",
    "API_KEY=a6e8fab2ae4907bada9b7df3dedb57df9a87e6aa9cab9699e7e15929ddcbfcc309b6d50362ad8d5fcbd8dfc5c44ea0f3409fac626c0cf0c16dfb1fdf6109f582a3ce0f9cb793bb3296648441007ad0b8e0e50eb9ef9fa2ae23c77c6a5973a003e6686197bf4409c5734d5ee12a9161aa57c60cc724cc9e50acf3589eceff6fc4\n",
    "# 로컬 / 맥북 프로\n",
    "# API_KEY=bcbd0dcd92718d28a683a35e280a7729f3de17dd5465f04f60573ffd6e8bf25e9029ad08cd8a3ac73d123a49e4e3140e060d8836a42b4c10df65d76ac9d3b13cdc2c76adbc34842e5715f0fb67f5bf950b9962a2f8953564b80f8b59e018e918670889cb20e9366d52aa547f6c391d40507c741a81bf2b1545c9027b5f9d6886\n",
    "# 로컬 / 맥북 에어\n",
    "# API_KEY=e30253b02924c567cd08ab7c82521238cb868c9fd353639d722ed860c52472e174d298a6d4ceae0bb6f4443a3bcd4cb9c906988e586ebdd8b5b14466bfbf283c33fe5994f95e8b27dbc52b3775f73d0711c0d400004389aacb1fdbb0668490202c3b73cf37dc93614f307b61ab85121a43055f0ee4a13f6e43be80b7896099bd"
   ]
  },
  {
   "cell_type": "code",
   "execution_count": null,
   "id": "ae8b2e5a",
   "metadata": {},
   "outputs": [],
   "source": []
  }
 ],
 "metadata": {
  "kernelspec": {
   "display_name": "py_env",
   "language": "python",
   "name": "py_env"
  },
  "language_info": {
   "codemirror_mode": {
    "name": "ipython",
    "version": 3
   },
   "file_extension": ".py",
   "mimetype": "text/x-python",
   "name": "python",
   "nbconvert_exporter": "python",
   "pygments_lexer": "ipython3",
   "version": "3.8.13"
  },
  "toc": {
   "base_numbering": 1,
   "nav_menu": {},
   "number_sections": true,
   "sideBar": true,
   "skip_h1_title": false,
   "title_cell": "Table of Contents",
   "title_sidebar": "Contents",
   "toc_cell": false,
   "toc_position": {},
   "toc_section_display": true,
   "toc_window_display": false
  }
 },
 "nbformat": 4,
 "nbformat_minor": 5
}
